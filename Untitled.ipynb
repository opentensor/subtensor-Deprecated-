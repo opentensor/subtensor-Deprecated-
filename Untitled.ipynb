{
 "cells": [
  {
   "cell_type": "code",
   "execution_count": 65,
   "id": "a3a95184-3f87-475a-96e0-accd6da7878a",
   "metadata": {},
   "outputs": [],
   "source": [
    "import bittensor\n",
    "import torch"
   ]
  },
  {
   "cell_type": "code",
   "execution_count": 66,
   "id": "58ff5ca6-be63-41bc-beaa-3f57c708e9b1",
   "metadata": {},
   "outputs": [],
   "source": [
    "meta = bittensor.metagraph.Metagraph()"
   ]
  },
  {
   "cell_type": "code",
   "execution_count": 67,
   "id": "c9e9ac30-3604-4c61-a61c-0626f15144d0",
   "metadata": {},
   "outputs": [],
   "source": [
    "meta.load()"
   ]
  },
  {
   "cell_type": "code",
   "execution_count": 68,
   "id": "2aff78dd-cdea-47e4-8064-62883ad8ba7a",
   "metadata": {},
   "outputs": [
    {
     "name": "stdout",
     "output_type": "stream",
     "text": [
      "\u001b[32m\u001b[1mConnected to network:\u001b[36mkusanagi\u001b[0m\u001b[32m\u001b[1m at endpoint:\u001b[36mmendeleev.kusanagi.bittensor.com:9944\u001b[0m\u001b[32m\u001b[1m\u001b[0m\n"
     ]
    },
    {
     "name": "stderr",
     "output_type": "stream",
     "text": [
      "100%|██████████| 16/16 [00:01<00:00, 14.78it/s]\n"
     ]
    }
   ],
   "source": [
    "meta.sync()"
   ]
  },
  {
   "cell_type": "code",
   "execution_count": 69,
   "id": "e93acd36-f3b1-4084-a4bc-9de0d25f5149",
   "metadata": {},
   "outputs": [],
   "source": [
    "meta.save()"
   ]
  },
  {
   "cell_type": "code",
   "execution_count": 70,
   "id": "c4b68fd1-16cd-4c8d-8a2d-bea6d719fd58",
   "metadata": {},
   "outputs": [
    {
     "data": {
      "text/plain": [
       "tensor([[1.1033e-02, 0.0000e+00, 1.0605e-04,  ..., 0.0000e+00, 0.0000e+00,\n",
       "         3.6787e-08],\n",
       "        [0.0000e+00, 0.0000e+00, 0.0000e+00,  ..., 0.0000e+00, 0.0000e+00,\n",
       "         0.0000e+00],\n",
       "        [0.0000e+00, 0.0000e+00, 0.0000e+00,  ..., 0.0000e+00, 0.0000e+00,\n",
       "         1.4412e-07],\n",
       "        ...,\n",
       "        [0.0000e+00, 0.0000e+00, 0.0000e+00,  ..., 0.0000e+00, 0.0000e+00,\n",
       "         0.0000e+00],\n",
       "        [4.0370e-04, 0.0000e+00, 0.0000e+00,  ..., 0.0000e+00, 2.4308e-07,\n",
       "         0.0000e+00],\n",
       "        [0.0000e+00, 0.0000e+00, 0.0000e+00,  ..., 1.7695e-08, 0.0000e+00,\n",
       "         2.4308e-07]], grad_fn=<StackBackward>)"
      ]
     },
     "execution_count": 70,
     "metadata": {},
     "output_type": "execute_result"
    }
   ],
   "source": [
    "meta.W"
   ]
  },
  {
   "cell_type": "code",
   "execution_count": 71,
   "id": "d72ea99e-2503-4bba-8878-6f263fb973a2",
   "metadata": {},
   "outputs": [],
   "source": [
    "wallet = bittensor.wallet.Wallet( name = \"zz1\", hotkey = \"Churchill\"  )"
   ]
  },
  {
   "cell_type": "code",
   "execution_count": 72,
   "id": "ae1ec8bb-e535-4b22-8399-a1424aefc84b",
   "metadata": {},
   "outputs": [],
   "source": [
    "subtensor = bittensor.subtensor.Subtensor()"
   ]
  },
  {
   "cell_type": "code",
   "execution_count": null,
   "id": "47f65578-5b11-497f-ba29-89f0e7b9787c",
   "metadata": {},
   "outputs": [],
   "source": []
  },
  {
   "cell_type": "code",
   "execution_count": 73,
   "id": "f6ed77f6-cb53-4578-b3e1-a5e8879d9cab",
   "metadata": {},
   "outputs": [
    {
     "name": "stdout",
     "output_type": "stream",
     "text": [
      "\u001b[32m\u001b[1mLoaded hotkey: \u001b[36m0x64ad22e99c13d8fed366472081e8904acca05f9f0f5942f8abb2770dd5d01e41\u001b[0m\u001b[32m\u001b[1m\u001b[0m\n"
     ]
    }
   ],
   "source": [
    "uid = meta.hotkeys.index(wallet.hotkey.public_key)"
   ]
  },
  {
   "cell_type": "code",
   "execution_count": 74,
   "id": "5923568c-9979-4985-97bc-48fdc89c6679",
   "metadata": {},
   "outputs": [
    {
     "name": "stdout",
     "output_type": "stream",
     "text": [
      "1055\n"
     ]
    }
   ],
   "source": [
    "print (uid)"
   ]
  },
  {
   "cell_type": "code",
   "execution_count": 75,
   "id": "be12806f-aa63-45d8-b29f-c37b969f7d05",
   "metadata": {},
   "outputs": [],
   "source": [
    "dests = torch.tensor( [uid], dtype=torch.int64 )\n",
    "weights = torch.tensor( [1.0], dtype=torch.float32)"
   ]
  },
  {
   "cell_type": "code",
   "execution_count": 76,
   "id": "858cb79b-9acf-44ff-88c9-b2bf96ca4170",
   "metadata": {},
   "outputs": [
    {
     "name": "stdout",
     "output_type": "stream",
     "text": [
      "\u001b[32m\u001b[1mConnected to network:\u001b[36mkusanagi\u001b[0m\u001b[32m\u001b[1m at endpoint:\u001b[36mberkeley.kusanagi.bittensor.com:9944\u001b[0m\u001b[32m\u001b[1m\u001b[0m\n",
      "\u001b[31m\u001b[1mError in extrinsic: No response within timeout\u001b[0m\n"
     ]
    },
    {
     "data": {
      "text/plain": [
       "False"
      ]
     },
     "execution_count": 76,
     "metadata": {},
     "output_type": "execute_result"
    }
   ],
   "source": [
    "subtensor.set_weights( wallet = wallet, uids = dests, weights = weights, wait_for_finalization=True)"
   ]
  },
  {
   "cell_type": "code",
   "execution_count": 77,
   "id": "d516013d-e967-4632-8b91-dbcfc041d956",
   "metadata": {},
   "outputs": [],
   "source": [
    "import os"
   ]
  },
  {
   "cell_type": "code",
   "execution_count": 79,
   "id": "5e2983ee-2424-4fa9-bcdb-89c531405195",
   "metadata": {},
   "outputs": [
    {
     "name": "stdout",
     "output_type": "stream",
     "text": [
      "\u001b[32m\u001b[1mLoaded hotkey: \u001b[36m0xbc851998ac08d2aa02cf66f5302472976241dc196d2a3e04df102362bac24418\u001b[0m\u001b[32m\u001b[1m\u001b[0m\n",
      "\u001b[32m\u001b[1mLoaded hotkey: \u001b[36m0x246ffc6a26020b1dee17e91b55a4dd38c32da1f636a93084891aa2a90fff422b\u001b[0m\u001b[32m\u001b[1m\u001b[0m\n",
      "\u001b[32m\u001b[1mLoaded hotkey: \u001b[36m0x40d2b65b7ea1a8941dd4c1901cd7f97cb80cab787f3a5139f227734a2031db42\u001b[0m\u001b[32m\u001b[1m\u001b[0m\n",
      "\u001b[32m\u001b[1mLoaded hotkey: \u001b[36m0x2232ad231a7ff96d5229d430eb21c6cb615476d346ead314f6ad831dddef5d42\u001b[0m\u001b[32m\u001b[1m\u001b[0m\n",
      "\u001b[32m\u001b[1mLoaded hotkey: \u001b[36m0xfec8569a9373f1d185582dc12b6701a86a0cfd6b4632d256fe0b824b23699723\u001b[0m\u001b[32m\u001b[1m\u001b[0m\n",
      "\u001b[32m\u001b[1mLoaded hotkey: \u001b[36m0x84db5c9b3566c8468dde4ff98d7a3ab9a2902bd65fb7e353409c42d25dca680e\u001b[0m\u001b[32m\u001b[1m\u001b[0m\n",
      "\u001b[32m\u001b[1mLoaded hotkey: \u001b[36m0x906b689985503b8a026a2d702fcdfeff76ad2b61bb3278b2c7d1a40a6d093d39\u001b[0m\u001b[32m\u001b[1m\u001b[0m\n",
      "\u001b[32m\u001b[1mLoaded hotkey: \u001b[36m0x0cc3295ff0d5daf44524c0781cd938fd63c193884170819175622902dcd6ff19\u001b[0m\u001b[32m\u001b[1m\u001b[0m\n",
      "\u001b[32m\u001b[1mLoaded hotkey: \u001b[36m0x7049316930067f8c48db958c6132169a5c627d5d62b40543ffc99c1a9bf57e7d\u001b[0m\u001b[32m\u001b[1m\u001b[0m\n",
      "\u001b[32m\u001b[1mLoaded hotkey: \u001b[36m0xa825906271df04a197e89907ea61f052f1626f9326cafabf1aa97624b5f02b0a\u001b[0m\u001b[32m\u001b[1m\u001b[0m\n",
      "\u001b[32m\u001b[1mLoaded hotkey: \u001b[36m0x348adc1377bef9118474501676f384a11f6131d17d0851832e1e084e0595a214\u001b[0m\u001b[32m\u001b[1m\u001b[0m\n",
      "\u001b[32m\u001b[1mLoaded hotkey: \u001b[36m0x24025dcd6a1de76d37567bf64102240a74f4693dd681e0db9c7fef495138694a\u001b[0m\u001b[32m\u001b[1m\u001b[0m\n",
      "\u001b[32m\u001b[1mLoaded hotkey: \u001b[36m0x0ca615fb8898ee212313ebefcb10ff94532d046999b036c08f4dd153ee216169\u001b[0m\u001b[32m\u001b[1m\u001b[0m\n",
      "\u001b[32m\u001b[1mLoaded hotkey: \u001b[36m0xf607fd7c8cf8bb74c63143156acb68257aa6bfe8477a781f7b853ded9ff07700\u001b[0m\u001b[32m\u001b[1m\u001b[0m\n",
      "\u001b[32m\u001b[1mLoaded hotkey: \u001b[36m0x86d5307b4eb6f687d39fbfab57139e8be12ec6dd9822c7df1467c9026aa0725a\u001b[0m\u001b[32m\u001b[1m\u001b[0m\n"
     ]
    },
    {
     "ename": "AttributeError",
     "evalue": "'NoneType' object has no attribute 'get'",
     "output_type": "error",
     "traceback": [
      "\u001b[0;31m---------------------------------------------------------------------------\u001b[0m",
      "\u001b[0;31mAttributeError\u001b[0m                            Traceback (most recent call last)",
      "\u001b[0;32m<ipython-input-79-6daeb6770a10>\u001b[0m in \u001b[0;36m<module>\u001b[0;34m\u001b[0m\n\u001b[1;32m      6\u001b[0m         \u001b[0mdests\u001b[0m \u001b[0;34m=\u001b[0m \u001b[0mtorch\u001b[0m\u001b[0;34m.\u001b[0m\u001b[0mtensor\u001b[0m\u001b[0;34m(\u001b[0m \u001b[0;34m[\u001b[0m\u001b[0mself_uid\u001b[0m\u001b[0;34m]\u001b[0m\u001b[0;34m,\u001b[0m \u001b[0mdtype\u001b[0m\u001b[0;34m=\u001b[0m\u001b[0mtorch\u001b[0m\u001b[0;34m.\u001b[0m\u001b[0mint64\u001b[0m \u001b[0;34m)\u001b[0m\u001b[0;34m\u001b[0m\u001b[0;34m\u001b[0m\u001b[0m\n\u001b[1;32m      7\u001b[0m         \u001b[0mweights\u001b[0m \u001b[0;34m=\u001b[0m \u001b[0mtorch\u001b[0m\u001b[0;34m.\u001b[0m\u001b[0mtensor\u001b[0m\u001b[0;34m(\u001b[0m \u001b[0;34m[\u001b[0m\u001b[0;36m1.0\u001b[0m\u001b[0;34m]\u001b[0m\u001b[0;34m,\u001b[0m \u001b[0mdtype\u001b[0m\u001b[0;34m=\u001b[0m\u001b[0mtorch\u001b[0m\u001b[0;34m.\u001b[0m\u001b[0mfloat32\u001b[0m\u001b[0;34m)\u001b[0m\u001b[0;34m\u001b[0m\u001b[0;34m\u001b[0m\u001b[0m\n\u001b[0;32m----> 8\u001b[0;31m         \u001b[0msuccess\u001b[0m \u001b[0;34m=\u001b[0m \u001b[0msubtensor\u001b[0m\u001b[0;34m.\u001b[0m\u001b[0mset_weights\u001b[0m\u001b[0;34m(\u001b[0m \u001b[0mwallet\u001b[0m \u001b[0;34m=\u001b[0m \u001b[0mwallet\u001b[0m\u001b[0;34m,\u001b[0m \u001b[0muids\u001b[0m \u001b[0;34m=\u001b[0m \u001b[0mdests\u001b[0m\u001b[0;34m,\u001b[0m \u001b[0mweights\u001b[0m \u001b[0;34m=\u001b[0m \u001b[0mweights\u001b[0m\u001b[0;34m,\u001b[0m \u001b[0mwait_for_inclusion\u001b[0m \u001b[0;34m=\u001b[0m \u001b[0;32mTrue\u001b[0m\u001b[0;34m)\u001b[0m\u001b[0;34m\u001b[0m\u001b[0;34m\u001b[0m\u001b[0m\n\u001b[0m\u001b[1;32m      9\u001b[0m         \u001b[0mprint\u001b[0m \u001b[0;34m(\u001b[0m\u001b[0msuccess\u001b[0m\u001b[0;34m)\u001b[0m\u001b[0;34m\u001b[0m\u001b[0;34m\u001b[0m\u001b[0m\n\u001b[1;32m     10\u001b[0m         \u001b[0mtime\u001b[0m\u001b[0;34m.\u001b[0m\u001b[0msleep\u001b[0m\u001b[0;34m(\u001b[0m\u001b[0;36m6\u001b[0m\u001b[0;34m)\u001b[0m\u001b[0;34m\u001b[0m\u001b[0;34m\u001b[0m\u001b[0m\n",
      "\u001b[0;32m~/Workspace/bittensor/bittensor/subtensor.py\u001b[0m in \u001b[0;36mset_weights\u001b[0;34m(self, wallet, uids, weights, wait_for_inclusion, wait_for_finalization, timeout)\u001b[0m\n\u001b[1;32m    712\u001b[0m         \u001b[0mloop\u001b[0m \u001b[0;34m=\u001b[0m \u001b[0masyncio\u001b[0m\u001b[0;34m.\u001b[0m\u001b[0mget_event_loop\u001b[0m\u001b[0;34m(\u001b[0m\u001b[0;34m)\u001b[0m\u001b[0;34m\u001b[0m\u001b[0;34m\u001b[0m\u001b[0m\n\u001b[1;32m    713\u001b[0m         \u001b[0mloop\u001b[0m\u001b[0;34m.\u001b[0m\u001b[0mset_debug\u001b[0m\u001b[0;34m(\u001b[0m\u001b[0menabled\u001b[0m\u001b[0;34m=\u001b[0m\u001b[0;32mTrue\u001b[0m\u001b[0;34m)\u001b[0m\u001b[0;34m\u001b[0m\u001b[0;34m\u001b[0m\u001b[0m\n\u001b[0;32m--> 714\u001b[0;31m         \u001b[0;32mreturn\u001b[0m \u001b[0mloop\u001b[0m\u001b[0;34m.\u001b[0m\u001b[0mrun_until_complete\u001b[0m\u001b[0;34m(\u001b[0m\u001b[0mself\u001b[0m\u001b[0;34m.\u001b[0m\u001b[0masync_set_weights\u001b[0m\u001b[0;34m(\u001b[0m \u001b[0mwallet\u001b[0m\u001b[0;34m,\u001b[0m \u001b[0muids\u001b[0m\u001b[0;34m,\u001b[0m \u001b[0mweights\u001b[0m\u001b[0;34m,\u001b[0m \u001b[0mwait_for_inclusion\u001b[0m\u001b[0;34m,\u001b[0m \u001b[0mwait_for_finalization\u001b[0m\u001b[0;34m,\u001b[0m \u001b[0mtimeout\u001b[0m \u001b[0;34m)\u001b[0m\u001b[0;34m)\u001b[0m\u001b[0;34m\u001b[0m\u001b[0;34m\u001b[0m\u001b[0m\n\u001b[0m\u001b[1;32m    715\u001b[0m \u001b[0;34m\u001b[0m\u001b[0m\n\u001b[1;32m    716\u001b[0m     async def async_set_weights(\n",
      "\u001b[0;32m/usr/local/lib/python3.8/site-packages/nest_asyncio.py\u001b[0m in \u001b[0;36mrun_until_complete\u001b[0;34m(self, future)\u001b[0m\n\u001b[1;32m     68\u001b[0m                 raise RuntimeError(\n\u001b[1;32m     69\u001b[0m                     'Event loop stopped before Future completed.')\n\u001b[0;32m---> 70\u001b[0;31m             \u001b[0;32mreturn\u001b[0m \u001b[0mf\u001b[0m\u001b[0;34m.\u001b[0m\u001b[0mresult\u001b[0m\u001b[0;34m(\u001b[0m\u001b[0;34m)\u001b[0m\u001b[0;34m\u001b[0m\u001b[0;34m\u001b[0m\u001b[0m\n\u001b[0m\u001b[1;32m     71\u001b[0m \u001b[0;34m\u001b[0m\u001b[0m\n\u001b[1;32m     72\u001b[0m     \u001b[0;32mdef\u001b[0m \u001b[0m_run_once\u001b[0m\u001b[0;34m(\u001b[0m\u001b[0mself\u001b[0m\u001b[0;34m)\u001b[0m\u001b[0;34m:\u001b[0m\u001b[0;34m\u001b[0m\u001b[0;34m\u001b[0m\u001b[0m\n",
      "\u001b[0;32m/usr/local/Cellar/python@3.8/3.8.10/Frameworks/Python.framework/Versions/3.8/lib/python3.8/asyncio/futures.py\u001b[0m in \u001b[0;36mresult\u001b[0;34m(self)\u001b[0m\n\u001b[1;32m    176\u001b[0m         \u001b[0mself\u001b[0m\u001b[0;34m.\u001b[0m\u001b[0m__log_traceback\u001b[0m \u001b[0;34m=\u001b[0m \u001b[0;32mFalse\u001b[0m\u001b[0;34m\u001b[0m\u001b[0;34m\u001b[0m\u001b[0m\n\u001b[1;32m    177\u001b[0m         \u001b[0;32mif\u001b[0m \u001b[0mself\u001b[0m\u001b[0;34m.\u001b[0m\u001b[0m_exception\u001b[0m \u001b[0;32mis\u001b[0m \u001b[0;32mnot\u001b[0m \u001b[0;32mNone\u001b[0m\u001b[0;34m:\u001b[0m\u001b[0;34m\u001b[0m\u001b[0;34m\u001b[0m\u001b[0m\n\u001b[0;32m--> 178\u001b[0;31m             \u001b[0;32mraise\u001b[0m \u001b[0mself\u001b[0m\u001b[0;34m.\u001b[0m\u001b[0m_exception\u001b[0m\u001b[0;34m\u001b[0m\u001b[0;34m\u001b[0m\u001b[0m\n\u001b[0m\u001b[1;32m    179\u001b[0m         \u001b[0;32mreturn\u001b[0m \u001b[0mself\u001b[0m\u001b[0;34m.\u001b[0m\u001b[0m_result\u001b[0m\u001b[0;34m\u001b[0m\u001b[0;34m\u001b[0m\u001b[0m\n\u001b[1;32m    180\u001b[0m \u001b[0;34m\u001b[0m\u001b[0m\n",
      "\u001b[0;32m/usr/local/Cellar/python@3.8/3.8.10/Frameworks/Python.framework/Versions/3.8/lib/python3.8/asyncio/tasks.py\u001b[0m in \u001b[0;36m__step\u001b[0;34m(***failed resolving arguments***)\u001b[0m\n\u001b[1;32m    278\u001b[0m                 \u001b[0;31m# We use the `send` method directly, because coroutines\u001b[0m\u001b[0;34m\u001b[0m\u001b[0;34m\u001b[0m\u001b[0;34m\u001b[0m\u001b[0m\n\u001b[1;32m    279\u001b[0m                 \u001b[0;31m# don't have `__iter__` and `__next__` methods.\u001b[0m\u001b[0;34m\u001b[0m\u001b[0;34m\u001b[0m\u001b[0;34m\u001b[0m\u001b[0m\n\u001b[0;32m--> 280\u001b[0;31m                 \u001b[0mresult\u001b[0m \u001b[0;34m=\u001b[0m \u001b[0mcoro\u001b[0m\u001b[0;34m.\u001b[0m\u001b[0msend\u001b[0m\u001b[0;34m(\u001b[0m\u001b[0;32mNone\u001b[0m\u001b[0;34m)\u001b[0m\u001b[0;34m\u001b[0m\u001b[0;34m\u001b[0m\u001b[0m\n\u001b[0m\u001b[1;32m    281\u001b[0m             \u001b[0;32melse\u001b[0m\u001b[0;34m:\u001b[0m\u001b[0;34m\u001b[0m\u001b[0;34m\u001b[0m\u001b[0m\n\u001b[1;32m    282\u001b[0m                 \u001b[0mresult\u001b[0m \u001b[0;34m=\u001b[0m \u001b[0mcoro\u001b[0m\u001b[0;34m.\u001b[0m\u001b[0mthrow\u001b[0m\u001b[0;34m(\u001b[0m\u001b[0mexc\u001b[0m\u001b[0;34m)\u001b[0m\u001b[0;34m\u001b[0m\u001b[0;34m\u001b[0m\u001b[0m\n",
      "\u001b[0;32m~/Workspace/bittensor/bittensor/subtensor.py\u001b[0m in \u001b[0;36masync_set_weights\u001b[0;34m(self, wallet, uids, weights, wait_for_inclusion, wait_for_finalization, timeout)\u001b[0m\n\u001b[1;32m    746\u001b[0m         \u001b[0mweight_uids\u001b[0m\u001b[0;34m,\u001b[0m \u001b[0mweight_vals\u001b[0m \u001b[0;34m=\u001b[0m \u001b[0mweight_utils\u001b[0m\u001b[0;34m.\u001b[0m\u001b[0mconvert_weights_and_uids_for_emit\u001b[0m\u001b[0;34m(\u001b[0m \u001b[0muids\u001b[0m\u001b[0;34m,\u001b[0m \u001b[0mweights\u001b[0m \u001b[0;34m)\u001b[0m\u001b[0;34m\u001b[0m\u001b[0;34m\u001b[0m\u001b[0m\n\u001b[1;32m    747\u001b[0m         \u001b[0;32mawait\u001b[0m \u001b[0mself\u001b[0m\u001b[0;34m.\u001b[0m\u001b[0masync_check_connection\u001b[0m\u001b[0;34m(\u001b[0m\u001b[0;34m)\u001b[0m\u001b[0;34m\u001b[0m\u001b[0;34m\u001b[0m\u001b[0m\n\u001b[0;32m--> 748\u001b[0;31m         call = await self.substrate.compose_call(\n\u001b[0m\u001b[1;32m    749\u001b[0m             \u001b[0mcall_module\u001b[0m\u001b[0;34m=\u001b[0m\u001b[0;34m'SubtensorModule'\u001b[0m\u001b[0;34m,\u001b[0m\u001b[0;34m\u001b[0m\u001b[0;34m\u001b[0m\u001b[0m\n\u001b[1;32m    750\u001b[0m             \u001b[0mcall_function\u001b[0m\u001b[0;34m=\u001b[0m\u001b[0;34m'set_weights'\u001b[0m\u001b[0;34m,\u001b[0m\u001b[0;34m\u001b[0m\u001b[0;34m\u001b[0m\u001b[0m\n",
      "\u001b[0;32m~/Workspace/bittensor/bittensor/substrate/__init__.py\u001b[0m in \u001b[0;36mcompose_call\u001b[0;34m(self, call_module, call_function, call_params, block_hash)\u001b[0m\n\u001b[1;32m   1205\u001b[0m \u001b[0;34m\u001b[0m\u001b[0m\n\u001b[1;32m   1206\u001b[0m         \"\"\"\n\u001b[0;32m-> 1207\u001b[0;31m         \u001b[0;32mawait\u001b[0m \u001b[0mself\u001b[0m\u001b[0;34m.\u001b[0m\u001b[0minit_runtime\u001b[0m\u001b[0;34m(\u001b[0m\u001b[0mblock_hash\u001b[0m\u001b[0;34m=\u001b[0m\u001b[0mblock_hash\u001b[0m\u001b[0;34m)\u001b[0m\u001b[0;34m\u001b[0m\u001b[0;34m\u001b[0m\u001b[0m\n\u001b[0m\u001b[1;32m   1208\u001b[0m \u001b[0;34m\u001b[0m\u001b[0m\n\u001b[1;32m   1209\u001b[0m         \u001b[0mcall\u001b[0m \u001b[0;34m=\u001b[0m \u001b[0mScaleDecoder\u001b[0m\u001b[0;34m.\u001b[0m\u001b[0mget_decoder_class\u001b[0m\u001b[0;34m(\u001b[0m\u001b[0;34m'Call'\u001b[0m\u001b[0;34m,\u001b[0m \u001b[0mmetadata\u001b[0m\u001b[0;34m=\u001b[0m\u001b[0mself\u001b[0m\u001b[0;34m.\u001b[0m\u001b[0mmetadata_decoder\u001b[0m\u001b[0;34m)\u001b[0m\u001b[0;34m\u001b[0m\u001b[0;34m\u001b[0m\u001b[0m\n",
      "\u001b[0;32m~/Workspace/bittensor/bittensor/substrate/__init__.py\u001b[0m in \u001b[0;36minit_runtime\u001b[0;34m(self, block_hash, block_id)\u001b[0m\n\u001b[1;32m    959\u001b[0m         \u001b[0mself\u001b[0m\u001b[0;34m.\u001b[0m\u001b[0mblock_id\u001b[0m \u001b[0;34m=\u001b[0m \u001b[0mblock_id\u001b[0m\u001b[0;34m\u001b[0m\u001b[0;34m\u001b[0m\u001b[0m\n\u001b[1;32m    960\u001b[0m \u001b[0;34m\u001b[0m\u001b[0m\n\u001b[0;32m--> 961\u001b[0;31m         \u001b[0mruntime_info\u001b[0m \u001b[0;34m=\u001b[0m \u001b[0;32mawait\u001b[0m \u001b[0mself\u001b[0m\u001b[0;34m.\u001b[0m\u001b[0mget_block_runtime_version\u001b[0m\u001b[0;34m(\u001b[0m\u001b[0mblock_hash\u001b[0m\u001b[0;34m=\u001b[0m\u001b[0mself\u001b[0m\u001b[0;34m.\u001b[0m\u001b[0mblock_hash\u001b[0m\u001b[0;34m)\u001b[0m\u001b[0;34m\u001b[0m\u001b[0;34m\u001b[0m\u001b[0m\n\u001b[0m\u001b[1;32m    962\u001b[0m \u001b[0;34m\u001b[0m\u001b[0m\n\u001b[1;32m    963\u001b[0m         \u001b[0;31m# Check if runtime state already set to current block\u001b[0m\u001b[0;34m\u001b[0m\u001b[0;34m\u001b[0m\u001b[0;34m\u001b[0m\u001b[0m\n",
      "\u001b[0;32m~/Workspace/bittensor/bittensor/substrate/__init__.py\u001b[0m in \u001b[0;36mget_block_runtime_version\u001b[0;34m(self, block_hash)\u001b[0m\n\u001b[1;32m    828\u001b[0m         \"\"\"\n\u001b[1;32m    829\u001b[0m         \u001b[0mresponse\u001b[0m \u001b[0;34m=\u001b[0m \u001b[0;32mawait\u001b[0m \u001b[0mself\u001b[0m\u001b[0;34m.\u001b[0m\u001b[0mprotocol\u001b[0m\u001b[0;34m.\u001b[0m\u001b[0masync_rpc_request\u001b[0m\u001b[0;34m(\u001b[0m\u001b[0;34m\"chain_getRuntimeVersion\"\u001b[0m\u001b[0;34m,\u001b[0m \u001b[0;34m[\u001b[0m\u001b[0mblock_hash\u001b[0m\u001b[0;34m]\u001b[0m\u001b[0;34m)\u001b[0m\u001b[0;34m\u001b[0m\u001b[0;34m\u001b[0m\u001b[0m\n\u001b[0;32m--> 830\u001b[0;31m         \u001b[0;32mreturn\u001b[0m \u001b[0mresponse\u001b[0m\u001b[0;34m.\u001b[0m\u001b[0mget\u001b[0m\u001b[0;34m(\u001b[0m\u001b[0;34m'result'\u001b[0m\u001b[0;34m)\u001b[0m\u001b[0;34m\u001b[0m\u001b[0;34m\u001b[0m\u001b[0m\n\u001b[0m\u001b[1;32m    831\u001b[0m \u001b[0;34m\u001b[0m\u001b[0m\n\u001b[1;32m    832\u001b[0m     def generate_storage_hash(self, storage_module, storage_function, params=None, hasher=None, key2_hasher=None,\n",
      "\u001b[0;31mAttributeError\u001b[0m: 'NoneType' object has no attribute 'get'"
     ]
    }
   ],
   "source": [
    "import time\n",
    "for hotkey in os.listdir(\"/Users/const/.bittensor/wallets/zz1/hotkeys\"):\n",
    "    wallet = bittensor.wallet.Wallet( name = \"zz1\", hotkey = hotkey )\n",
    "    self_uid = meta.hotkeys.index(wallet.hotkey.public_key)\n",
    "    if torch.numel(torch.where(meta.W[self_uid] != 0.0)[0]) != 1:\n",
    "        dests = torch.tensor( [self_uid], dtype=torch.int64 )\n",
    "        weights = torch.tensor( [1.0], dtype=torch.float32)\n",
    "        success = subtensor.set_weights( wallet = wallet, uids = dests, weights = weights, wait_for_inclusion = True)\n",
    "        print (success)\n",
    "        time.sleep(6)"
   ]
  },
  {
   "cell_type": "code",
   "execution_count": null,
   "id": "95175e60-7fdf-42bd-8b3d-dd4ca8eb185c",
   "metadata": {},
   "outputs": [],
   "source": []
  }
 ],
 "metadata": {
  "kernelspec": {
   "display_name": "Python 3",
   "language": "python",
   "name": "python3"
  },
  "language_info": {
   "codemirror_mode": {
    "name": "ipython",
    "version": 3
   },
   "file_extension": ".py",
   "mimetype": "text/x-python",
   "name": "python",
   "nbconvert_exporter": "python",
   "pygments_lexer": "ipython3",
   "version": "3.8.10"
  }
 },
 "nbformat": 4,
 "nbformat_minor": 5
}
