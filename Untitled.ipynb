{
 "cells": [
  {
   "cell_type": "code",
   "execution_count": 8,
   "id": "26502b1c-fd4a-419b-be74-f2a22633a7ac",
   "metadata": {},
   "outputs": [],
   "source": [
    "import bittensor\n",
    "import torch"
   ]
  },
  {
   "cell_type": "code",
   "execution_count": 3,
   "id": "ece9947c-71d3-452f-ac73-a02e327039a4",
   "metadata": {},
   "outputs": [],
   "source": [
    "meta = bittensor.metagraph.Metagraph()"
   ]
  },
  {
   "cell_type": "code",
   "execution_count": 4,
   "id": "4c4cb2c6-bd3d-4c57-92b7-93b1cf3ee5fe",
   "metadata": {},
   "outputs": [
    {
     "name": "stdout",
     "output_type": "stream",
     "text": [
      "\u001b[32m\u001b[1mConnected to network:\u001b[36mkusanagi\u001b[0m\u001b[32m\u001b[1m at endpoint:\u001b[36m165.227.81.42:9944\u001b[0m\u001b[32m\u001b[1m\u001b[0m\n"
     ]
    },
    {
     "name": "stderr",
     "output_type": "stream",
     "text": [
      "100%|██████████| 229/229 [00:02<00:00, 99.65it/s]\n"
     ]
    }
   ],
   "source": [
    "meta.load()\n",
    "meta.sync()"
   ]
  },
  {
   "cell_type": "code",
   "execution_count": 31,
   "id": "ebeb1e71-78e3-4a6b-a3b0-33104d1594e2",
   "metadata": {},
   "outputs": [
    {
     "data": {
      "text/plain": [
       "tensor(96926.6797)"
      ]
     },
     "execution_count": 31,
     "metadata": {},
     "output_type": "execute_result"
    }
   ],
   "source": [
    "\n",
    "torch.sum(meta.S[torch.where( meta.block - meta.lastemit < 10000)[0]])"
   ]
  },
  {
   "cell_type": "code",
   "execution_count": 29,
   "id": "52ed0ea6-d2e4-429b-ae4b-7da56495f2dc",
   "metadata": {},
   "outputs": [
    {
     "data": {
      "text/plain": [
       "tensor(382162.8125)"
      ]
     },
     "execution_count": 29,
     "metadata": {},
     "output_type": "execute_result"
    }
   ],
   "source": [
    "torch.sum(meta.S)"
   ]
  },
  {
   "cell_type": "code",
   "execution_count": 32,
   "id": "6b664928-52c2-4f1c-bfa4-8690bfea8230",
   "metadata": {},
   "outputs": [],
   "source": [
    "import digitalocean"
   ]
  },
  {
   "cell_type": "code",
   "execution_count": 33,
   "id": "66aaf3d1-e4a4-4bd2-a131-a5de23de59ce",
   "metadata": {},
   "outputs": [],
   "source": [
    "manager = digitalocean.Manager(token='3fb6c0ce7a1a75933adbdab09b43745e998dc1a1d713c4873fe52f5e1e883a27')"
   ]
  },
  {
   "cell_type": "code",
   "execution_count": 36,
   "id": "445ed872-72ac-4d12-88f8-989ca011b605",
   "metadata": {},
   "outputs": [],
   "source": [
    "sizes = manager.get_all_sizes()"
   ]
  },
  {
   "cell_type": "code",
   "execution_count": 39,
   "id": "03b288b3-8020-40f5-8a4a-45417e291bfe",
   "metadata": {},
   "outputs": [],
   "source": [
    "disizes[0]\n",
    "TOKEN = '3fb6c0ce7a1a75933adbdab09b43745e998dc1a1d713c4873fe52f5e1e883a27'"
   ]
  },
  {
   "cell_type": "code",
   "execution_count": 43,
   "id": "56e4f8cf-5f8a-4b82-8d81-3d2068749534",
   "metadata": {},
   "outputs": [],
   "source": [
    "size = digitalocean.Size(sizes[0])"
   ]
  },
  {
   "cell_type": "code",
   "execution_count": 45,
   "id": "e5227d0c-d2ca-4aa9-9300-fe7d249fa874",
   "metadata": {},
   "outputs": [],
   "source": [
    "class Sizes(list):\n",
    "    def suitable(self, image : digitalocean.Image):\n",
    "        min_size = image.min_disk_size\n",
    "        regions = image.regions\n",
    "\n",
    "        def filter_size(size : digitalocean.Size):\n",
    "            if size.disk < min_size:\n",
    "                return False\n",
    "            else:\n",
    "                return True\n",
    "\n",
    "        def filter_regions(size : digitalocean.Size):\n",
    "            return all(item in size.regions for item in regions)\n",
    "\n",
    "\n",
    "        right_sizes = filter(filter_size, self)\n",
    "        right_regions = filter(filter_regions, right_sizes)\n",
    "\n",
    "        return Sizes(right_regions)\n",
    "\n",
    "    def sort_on_price(self):\n",
    "        return sorted(self, key=lambda s: s.price_hourly)\n",
    "\n",
    "\n",
    "    def find_by_slug(self, slug):\n",
    "        size: Size\n",
    "        for size in self:\n",
    "            if size.slug == slug:\n",
    "                return size\n",
    "\n",
    "        return None"
   ]
  },
  {
   "cell_type": "code",
   "execution_count": 50,
   "id": "61613200-8b0a-4407-85b7-2d2cd6609be8",
   "metadata": {},
   "outputs": [],
   "source": [
    "s = Sizes(manager.get_all_sizes())"
   ]
  },
  {
   "cell_type": "code",
   "execution_count": 51,
   "id": "6f1447c0-643d-4119-85a9-d511a5d9844c",
   "metadata": {},
   "outputs": [],
   "source": [
    "size = s.find_by_slug('s-1vcpu-1gb')"
   ]
  },
  {
   "cell_type": "code",
   "execution_count": 52,
   "id": "af303ca6-4c4f-47e8-90d7-7d6e760344bc",
   "metadata": {},
   "outputs": [
    {
     "name": "stdout",
     "output_type": "stream",
     "text": [
      "s-1vcpu-1gb\n"
     ]
    }
   ],
   "source": [
    "print (size)"
   ]
  },
  {
   "cell_type": "code",
   "execution_count": 56,
   "id": "264590be-4ce0-44fb-b1b3-0bd5aa6cb572",
   "metadata": {},
   "outputs": [
    {
     "ename": "DataReadError",
     "evalue": "Server Error",
     "output_type": "error",
     "traceback": [
      "\u001b[0;31m---------------------------------------------------------------------------\u001b[0m",
      "\u001b[0;31mDataReadError\u001b[0m                             Traceback (most recent call last)",
      "\u001b[0;32m<ipython-input-56-28526a27b290>\u001b[0m in \u001b[0;36m<module>\u001b[0;34m\u001b[0m\n\u001b[1;32m      7\u001b[0m    \u001b[0mbackups\u001b[0m\u001b[0;34m=\u001b[0m\u001b[0;32mTrue\u001b[0m\u001b[0;34m\u001b[0m\u001b[0;34m\u001b[0m\u001b[0m\n\u001b[1;32m      8\u001b[0m )\n\u001b[0;32m----> 9\u001b[0;31m \u001b[0mdroplet\u001b[0m\u001b[0;34m.\u001b[0m\u001b[0mcreate\u001b[0m\u001b[0;34m(\u001b[0m\u001b[0;34m)\u001b[0m\u001b[0;34m\u001b[0m\u001b[0;34m\u001b[0m\u001b[0m\n\u001b[0m",
      "\u001b[0;32m/usr/local/lib/python3.8/site-packages/digitalocean/Droplet.py\u001b[0m in \u001b[0;36mcreate\u001b[0;34m(self, *args, **kwargs)\u001b[0m\n\u001b[1;32m    566\u001b[0m             \u001b[0mdata\u001b[0m\u001b[0;34m[\u001b[0m\u001b[0;34m\"user_data\"\u001b[0m\u001b[0;34m]\u001b[0m \u001b[0;34m=\u001b[0m \u001b[0mself\u001b[0m\u001b[0;34m.\u001b[0m\u001b[0muser_data\u001b[0m\u001b[0;34m\u001b[0m\u001b[0;34m\u001b[0m\u001b[0m\n\u001b[1;32m    567\u001b[0m \u001b[0;34m\u001b[0m\u001b[0m\n\u001b[0;32m--> 568\u001b[0;31m         \u001b[0mdata\u001b[0m \u001b[0;34m=\u001b[0m \u001b[0mself\u001b[0m\u001b[0;34m.\u001b[0m\u001b[0mget_data\u001b[0m\u001b[0;34m(\u001b[0m\u001b[0;34m\"droplets/\"\u001b[0m\u001b[0;34m,\u001b[0m \u001b[0mtype\u001b[0m\u001b[0;34m=\u001b[0m\u001b[0mPOST\u001b[0m\u001b[0;34m,\u001b[0m \u001b[0mparams\u001b[0m\u001b[0;34m=\u001b[0m\u001b[0mdata\u001b[0m\u001b[0;34m)\u001b[0m\u001b[0;34m\u001b[0m\u001b[0;34m\u001b[0m\u001b[0m\n\u001b[0m\u001b[1;32m    569\u001b[0m \u001b[0;34m\u001b[0m\u001b[0m\n\u001b[1;32m    570\u001b[0m         \u001b[0;32mif\u001b[0m \u001b[0mdata\u001b[0m\u001b[0;34m:\u001b[0m\u001b[0;34m\u001b[0m\u001b[0;34m\u001b[0m\u001b[0m\n",
      "\u001b[0;32m/usr/local/lib/python3.8/site-packages/digitalocean/Droplet.py\u001b[0m in \u001b[0;36mget_data\u001b[0;34m(self, *args, **kwargs)\u001b[0m\n\u001b[1;32m    163\u001b[0m             \u001b[0mCustomized\u001b[0m \u001b[0mversion\u001b[0m \u001b[0mof\u001b[0m \u001b[0mget_data\u001b[0m \u001b[0mto\u001b[0m \u001b[0mperform\u001b[0m \u001b[0m__check_actions_in_data\u001b[0m\u001b[0;34m\u001b[0m\u001b[0;34m\u001b[0m\u001b[0m\n\u001b[1;32m    164\u001b[0m         \"\"\"\n\u001b[0;32m--> 165\u001b[0;31m         \u001b[0mdata\u001b[0m \u001b[0;34m=\u001b[0m \u001b[0msuper\u001b[0m\u001b[0;34m(\u001b[0m\u001b[0mDroplet\u001b[0m\u001b[0;34m,\u001b[0m \u001b[0mself\u001b[0m\u001b[0;34m)\u001b[0m\u001b[0;34m.\u001b[0m\u001b[0mget_data\u001b[0m\u001b[0;34m(\u001b[0m\u001b[0;34m*\u001b[0m\u001b[0margs\u001b[0m\u001b[0;34m,\u001b[0m \u001b[0;34m**\u001b[0m\u001b[0mkwargs\u001b[0m\u001b[0;34m)\u001b[0m\u001b[0;34m\u001b[0m\u001b[0;34m\u001b[0m\u001b[0m\n\u001b[0m\u001b[1;32m    166\u001b[0m         \u001b[0;32mif\u001b[0m \u001b[0;34m\"type\"\u001b[0m \u001b[0;32min\u001b[0m \u001b[0mkwargs\u001b[0m\u001b[0;34m:\u001b[0m\u001b[0;34m\u001b[0m\u001b[0;34m\u001b[0m\u001b[0m\n\u001b[1;32m    167\u001b[0m             \u001b[0;32mif\u001b[0m \u001b[0mkwargs\u001b[0m\u001b[0;34m[\u001b[0m\u001b[0;34m\"type\"\u001b[0m\u001b[0;34m]\u001b[0m \u001b[0;34m==\u001b[0m \u001b[0mPOST\u001b[0m\u001b[0;34m:\u001b[0m\u001b[0;34m\u001b[0m\u001b[0;34m\u001b[0m\u001b[0m\n",
      "\u001b[0;32m/usr/local/lib/python3.8/site-packages/digitalocean/baseapi.py\u001b[0m in \u001b[0;36mget_data\u001b[0;34m(self, url, type, params)\u001b[0m\n\u001b[1;32m    230\u001b[0m         \u001b[0;32mif\u001b[0m \u001b[0;32mnot\u001b[0m \u001b[0mreq\u001b[0m\u001b[0;34m.\u001b[0m\u001b[0mok\u001b[0m\u001b[0;34m:\u001b[0m\u001b[0;34m\u001b[0m\u001b[0;34m\u001b[0m\u001b[0m\n\u001b[1;32m    231\u001b[0m             \u001b[0mmsg\u001b[0m \u001b[0;34m=\u001b[0m \u001b[0;34m[\u001b[0m\u001b[0mdata\u001b[0m\u001b[0;34m[\u001b[0m\u001b[0mm\u001b[0m\u001b[0;34m]\u001b[0m \u001b[0;32mfor\u001b[0m \u001b[0mm\u001b[0m \u001b[0;32min\u001b[0m \u001b[0;34m(\u001b[0m\u001b[0;34m\"id\"\u001b[0m\u001b[0;34m,\u001b[0m \u001b[0;34m\"message\"\u001b[0m\u001b[0;34m)\u001b[0m \u001b[0;32mif\u001b[0m \u001b[0mm\u001b[0m \u001b[0;32min\u001b[0m \u001b[0mdata\u001b[0m\u001b[0;34m]\u001b[0m\u001b[0;34m[\u001b[0m\u001b[0;36m1\u001b[0m\u001b[0;34m]\u001b[0m\u001b[0;34m\u001b[0m\u001b[0;34m\u001b[0m\u001b[0m\n\u001b[0;32m--> 232\u001b[0;31m             \u001b[0;32mraise\u001b[0m \u001b[0mDataReadError\u001b[0m\u001b[0;34m(\u001b[0m\u001b[0mmsg\u001b[0m\u001b[0;34m)\u001b[0m\u001b[0;34m\u001b[0m\u001b[0;34m\u001b[0m\u001b[0m\n\u001b[0m\u001b[1;32m    233\u001b[0m \u001b[0;34m\u001b[0m\u001b[0m\n\u001b[1;32m    234\u001b[0m         \u001b[0;31m# init request limits\u001b[0m\u001b[0;34m\u001b[0m\u001b[0;34m\u001b[0m\u001b[0;34m\u001b[0m\u001b[0m\n",
      "\u001b[0;31mDataReadError\u001b[0m: Server Error"
     ]
    }
   ],
   "source": [
    "keys = manager.get_all_sshkeys()\n",
    "droplet = digitalocean.Droplet(\n",
    "    token=TOKEN,\n",
    "    tag='zz1',\n",
    "    name='test3',\n",
    "   size_slug='512mb',  # 512MB\n",
    "   backups=True\n",
    ")\n",
    "droplet.create()"
   ]
  },
  {
   "cell_type": "code",
   "execution_count": null,
   "id": "0e141dc9-6598-4cb2-867d-0aa3a670036f",
   "metadata": {},
   "outputs": [],
   "source": []
  }
 ],
 "metadata": {
  "kernelspec": {
   "display_name": "Python 3",
   "language": "python",
   "name": "python3"
  },
  "language_info": {
   "codemirror_mode": {
    "name": "ipython",
    "version": 3
   },
   "file_extension": ".py",
   "mimetype": "text/x-python",
   "name": "python",
   "nbconvert_exporter": "python",
   "pygments_lexer": "ipython3",
   "version": "3.8.10"
  }
 },
 "nbformat": 4,
 "nbformat_minor": 5
}
